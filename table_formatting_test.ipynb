{
 "cells": [
  {
   "cell_type": "code",
   "execution_count": 20,
   "metadata": {},
   "outputs": [
    {
     "data": {
      "text/html": [
       "<h2 style='padding: 10px'>Reaction Name Here</h2><table class='table table-striped'> <thead> <tr> <th>Index</th> <th>Species</th> <th>Percentage</th> </tr> </thead> <tbody> <tr> <th scope='row'>1</th> <td>H2O</td> <td>15%</td> </tr> <tr> <th scope='row'>2</th> <td>CO2</td> <td>30%</td> </tr> <tr> <th scope='row'>3</th> <td>CH4</td> <td>55%</td> </tr> </tbody> </table>"
      ],
      "text/plain": [
       "<IPython.core.display.HTML object>"
      ]
     },
     "metadata": {},
     "output_type": "display_data"
    }
   ],
   "source": [
    "from IPython.core.display import display, HTML\n",
    "display(HTML(\"<h2 style='padding: 10px'>Reaction Name Here</h2><table class='table table-striped'> <thead> <tr> <th>Index</th> <th>Species</th> <th>Percentage</th> </tr> </thead> <tbody> <tr> <th scope='row'>1</th> <td>H2O</td> <td>15%</td> </tr> <tr> <th scope='row'>2</th> <td>CO2</td> <td>30%</td> </tr> <tr> <th scope='row'>3</th> <td>CH4</td> <td>55%</td> </tr> </tbody> </table>\"))"
   ]
  },
  {
   "cell_type": "code",
   "execution_count": null,
   "metadata": {},
   "outputs": [],
   "source": []
  }
 ],
 "metadata": {
  "kernelspec": {
   "display_name": "Python 3",
   "language": "python",
   "name": "python3"
  },
  "language_info": {
   "codemirror_mode": {
    "name": "ipython",
    "version": 3
   },
   "file_extension": ".py",
   "mimetype": "text/x-python",
   "name": "python",
   "nbconvert_exporter": "python",
   "pygments_lexer": "ipython3",
   "version": "3.6.5"
  }
 },
 "nbformat": 4,
 "nbformat_minor": 2
}
