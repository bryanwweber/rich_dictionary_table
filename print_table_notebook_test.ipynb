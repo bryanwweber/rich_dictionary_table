{
 "cells": [
  {
   "cell_type": "code",
   "execution_count": 1,
   "metadata": {},
   "outputs": [],
   "source": [
    "class PrintTable(object):\n",
    "    def __init__(self, user_dict):\n",
    "        self.user_dict = user_dict\n",
    "    def _repr_html_(self):\n",
    "        return '<h1>'+str(self.user_dict)+'</h1>'"
   ]
  },
  {
   "cell_type": "code",
   "execution_count": 2,
   "metadata": {},
   "outputs": [
    {
     "data": {
      "text/plain": [
       "\"<h1>{'H20': 20, 'CH4': 30, 'O2': 10, 'CO2': 40}</h1>\""
      ]
     },
     "execution_count": 2,
     "metadata": {},
     "output_type": "execute_result"
    }
   ],
   "source": [
    "reaction = {\n",
    "\"H20\":20,\n",
    "\"CH4\":30,\n",
    "\"O2\":10,\n",
    "\"CO2\":40,\n",
    "}\n",
    "\n",
    "my_table = PrintTable(reaction)\n",
    "\n",
    "my_table._repr_html_()"
   ]
  },
  {
   "cell_type": "code",
   "execution_count": null,
   "metadata": {},
   "outputs": [],
   "source": []
  }
 ],
 "metadata": {
  "kernelspec": {
   "display_name": "Python 3",
   "language": "python",
   "name": "python3"
  },
  "language_info": {
   "codemirror_mode": {
    "name": "ipython",
    "version": 3
   },
   "file_extension": ".py",
   "mimetype": "text/x-python",
   "name": "python",
   "nbconvert_exporter": "python",
   "pygments_lexer": "ipython3",
   "version": "3.6.5"
  }
 },
 "nbformat": 4,
 "nbformat_minor": 2
}
